{
 "cells": [
  {
   "cell_type": "markdown",
   "metadata": {},
   "source": [
    "<center>\n",
    "    <img src=\"https://s3-api.us-geo.objectstorage.softlayer.net/cf-courses-data/CognitiveClass/Logos/organization_logo/organization_logo.png\" width=\"300\" alt=\"cognitiveclass.ai logo\"  />\n",
    "</center>\n"
   ]
  },
  {
   "cell_type": "markdown",
   "metadata": {
    "tags": []
   },
   "source": [
    "#### Add your code below following the instructions given in the course\n"
   ]
  },
  {
   "cell_type": "markdown",
   "metadata": {},
   "source": [
    "<h1>My Jupyter Notebook on IBM Watson Studio</h1>"
   ]
  },
  {
   "cell_type": "markdown",
   "metadata": {},
   "source": [
    "__Name: Alexander James Lewis__\n",
    "<br>\n",
    "Desired Occupation: Statistician"
   ]
  },
  {
   "cell_type": "markdown",
   "metadata": {},
   "source": [
    "_I want to learn more about data science because I am enjoy learning and applying mathematical skills, and I particularly like statistics and probability; which are major components of data science._"
   ]
  },
  {
   "cell_type": "markdown",
   "metadata": {},
   "source": [
    "<h3>\n",
    "    The following code calculates 22 divided by 7 to give a very rough approximation of the value of pi.\n",
    "</h3>"
   ]
  },
  {
   "cell_type": "code",
   "execution_count": 1,
   "metadata": {},
   "outputs": [
    {
     "data": {
      "text/plain": [
       "3.142857142857143"
      ]
     },
     "execution_count": 1,
     "metadata": {},
     "output_type": "execute_result"
    }
   ],
   "source": [
    "22/7"
   ]
  },
  {
   "cell_type": "markdown",
   "metadata": {},
   "source": [
    "Here is a list of other approximations of pi:\n",
    "<ul>\n",
    "    <li>\n",
    "        From the <a href=\"https://en.wikipedia.org/wiki/Approximations_of_%CF%80\">Shatapatha Brahmana</a>\n",
    "        there is 339/108\n",
    "    </li>\n",
    "    <li>\n",
    "        <a href=\"https://en.wikipedia.org/wiki/Approximations_of_%CF%80\">Ptolemy</a>\n",
    "        used 377/120\n",
    "    </li>\n",
    "</ul>\n",
    "<table>\n",
    "    <tr>\n",
    "        <th>\n",
    "            Comparing These Approximations of Pi\n",
    "        </th>\n",
    "    </tr>\n",
    "    <tr>\n",
    "        <td>\n",
    "            Approximation\n",
    "        </td>\n",
    "        <td>\n",
    "            Value\n",
    "        </td>\n",
    "    </tr>\n",
    "    <tr>\n",
    "        <td>\n",
    "            22/7\n",
    "        </td>\n",
    "        <td>\n",
    "            3.1428571429\n",
    "        </td>\n",
    "    </tr>\n",
    "    <tr>\n",
    "        <td>\n",
    "            339/108\n",
    "        </td>\n",
    "        <td>\n",
    "            3.1388888889\n",
    "        </td>\n",
    "    </tr>\n",
    "    <tr>\n",
    "        <td>\n",
    "            377/120\n",
    "        </td>\n",
    "        <td>\n",
    "            3.1416666667\n",
    "        </td>\n",
    "    </tr>\n",
    "    <tr>\n",
    "        <td>\n",
    "            Current Approximation\n",
    "        </td>\n",
    "        <td>\n",
    "            3.1415926536\n",
    "        </td>\n",
    "    </tr>\n",
    "</table>"
   ]
  }
 ],
 "metadata": {
  "kernelspec": {
   "display_name": "Python",
   "language": "python",
   "name": "conda-env-python-py"
  },
  "language_info": {
   "codemirror_mode": {
    "name": "ipython",
    "version": 3
   },
   "file_extension": ".py",
   "mimetype": "text/x-python",
   "name": "python",
   "nbconvert_exporter": "python",
   "pygments_lexer": "ipython3",
   "version": "3.7.12"
  }
 },
 "nbformat": 4,
 "nbformat_minor": 4
}
